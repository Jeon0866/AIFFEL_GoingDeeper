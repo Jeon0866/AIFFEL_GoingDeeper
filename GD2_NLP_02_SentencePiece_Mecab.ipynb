{
 "cells": [
  {
   "cell_type": "markdown",
   "id": "tutorial-retrieval",
   "metadata": {},
   "source": [
    "# Sentencepiece 사용하기"
   ]
  },
  {
   "cell_type": "markdown",
   "id": "orange-seafood",
   "metadata": {},
   "source": [
    "|평가문항|상세기준|\n",
    "|---|---|\n",
    "|1. SentencePiece를 이용하여 모델을 만들기까지의 과정이 정상적으로 진행되었는가?|코퍼스 분석, 전처리, SentencePiece 적용, 토크나이저 구현 및 동작이 빠짐없이 진행되었는가?|\n",
    "|2. SentencePiece를 통해 만든 Tokenizer가 자연어처리 모델과 결합하여 동작하는가?|SentencePiece 토크나이저가 적용된 Text Classifier 모델이 정상적으로 수렴하여 80% 이상의 test accuracy가 확인되었다|\n",
    "|3. SentencePiece의 성능을 다각도로 비교분석하였는가?|SentencePiece 토크나이저를 활용했을 때의 성능을 다른 토크나이저 혹은 SentencePiece의 다른 옵션의 경우와 비교하여 분석을 체계적으로 진행하였다."
   ]
  },
  {
   "cell_type": "markdown",
   "id": "starting-mechanics",
   "metadata": {},
   "source": [
    "# 1. SentencePiece 설치\n",
    "* https://github.com/google/sentencepiece\n",
    "\n",
    "\n",
    "* 정리\n",
    " * Google OpenSource 기반 Sentence Tokenizer/Detokenizer로서 BPE(byte-pair-encoding)와 unigram 2가지 subword Tokenizing 모델 중 하나를 선택해서 사용할 수 있도록 패키징 한 것.\n",
    " * SentencePiece는 pre/postprocessing에 의존하지 않는 순수한 end-to-end system을 만들 수 있다."
   ]
  },
  {
   "cell_type": "code",
   "execution_count": 1,
   "id": "cordless-court",
   "metadata": {},
   "outputs": [],
   "source": [
    "# !pip install sentencepiece"
   ]
  },
  {
   "cell_type": "markdown",
   "id": "strange-identity",
   "metadata": {},
   "source": [
    "# 라이브러리 및 패키지"
   ]
  },
  {
   "cell_type": "code",
   "execution_count": 2,
   "id": "numerous-attention",
   "metadata": {},
   "outputs": [
    {
     "name": "stderr",
     "output_type": "stream",
     "text": [
      "/opt/conda/lib/python3.7/site-packages/gensim/similarities/__init__.py:15: UserWarning: The gensim.similarities.levenshtein submodule is disabled, because the optional Levenshtein package <https://pypi.org/project/python-Levenshtein/> is unavailable. Install Levenhstein (e.g. `pip install python-Levenshtein`) to suppress this warning.\n",
      "  warnings.warn(msg)\n"
     ]
    }
   ],
   "source": [
    "import re\n",
    "import os\n",
    "import os.path\n",
    "import pandas as pd\n",
    "import numpy as np\n",
    "import urllib.request\n",
    "\n",
    "import tensorflow as tf\n",
    "from tensorflow import keras\n",
    "from tensorflow.keras.preprocessing.text import Tokenizer\n",
    "from tensorflow.keras.preprocessing.sequence import pad_sequences\n",
    "from tensorflow.keras.initializers import Constant\n",
    "\n",
    "from collections import Counter\n",
    "from konlpy.tag import Mecab\n",
    "import sentencepiece as spm\n",
    "\n",
    "import gensim\n",
    "from gensim.models import KeyedVectors\n",
    "from sklearn.model_selection import train_test_split\n",
    "\n",
    "from keras.layers import LSTM, GRU, Dense, Conv1D\n",
    "from keras.layers import Embedding, MaxPooling1D, GlobalMaxPooling1D\n",
    "from keras.layers import Dropout\n",
    "from keras.callbacks import EarlyStopping\n",
    "\n",
    "import seaborn as sns\n",
    "import matplotlib.pyplot as plt\n",
    "%matplotlib inline\n",
    "\n",
    "import warnings\n",
    "warnings.filterwarnings(action='ignore') # (action='default')"
   ]
  },
  {
   "cell_type": "markdown",
   "id": "devoted-participant",
   "metadata": {},
   "source": [
    "# 2. SentencePiece 모델 학습"
   ]
  },
  {
   "cell_type": "markdown",
   "id": "characteristic-operation",
   "metadata": {},
   "source": [
    "* 한국어의 형태소 분석과 품사 태깅, 기계 번역 연구를 위해 공개된 데이터\n",
    " * 한국어-영어 병렬을 이루는 말뭉치 중 한국어 부분"
   ]
  },
  {
   "cell_type": "code",
   "execution_count": 3,
   "id": "deadly-behalf",
   "metadata": {},
   "outputs": [
    {
     "name": "stdout",
     "output_type": "stream",
     "text": [
      "Data Size: 94123\n",
      "Example:\n",
      ">> 개인용 컴퓨터 사용의 상당 부분은 \"이것보다 뛰어날 수 있느냐?\"\n",
      ">> 북한의 핵무기 계획을 포기하도록 하려는 압력이 거세지고 있는 가운데, 일본과 북한의 외교관들이 외교 관계를 정상화하려는 회담을 재개했다.\n",
      ">> \"경호 로보트가 침입자나 화재를 탐지하기 위해서 개인적으로, 그리고 전문적으로 사용되고 있습니다.\"\n",
      ">> 수자원부 당국은 논란이 되고 있고, 막대한 비용이 드는 이 사업에 대해 내년에 건설을 시작할 계획이다.\n",
      ">> 또한 근력 운동은 활발하게 걷는 것이나 최소한 20분 동안 뛰는 것과 같은 유산소 활동에서 얻는 운동 효과를 심장과 폐에 주지 않기 때문에, 연구학자들은 근력 운동이 심장에 큰 영향을 미치는지 여부에 대해 논쟁을 해왔다.\n"
     ]
    }
   ],
   "source": [
    "path_to_file = os.getenv('HOME')+'/aiffel/sp_tokenizer/data/korean-english-park.train.ko'\n",
    "\n",
    "with open(path_to_file, \"r\") as f:\n",
    "    raw = f.read().splitlines()\n",
    "\n",
    "print(\"Data Size:\", len(raw))\n",
    "\n",
    "print(\"Example:\")\n",
    "for sen in raw[0:100][::20]: print(\">>\", sen)"
   ]
  },
  {
   "cell_type": "code",
   "execution_count": 4,
   "id": "intelligent-spice",
   "metadata": {},
   "outputs": [
    {
     "name": "stdout",
     "output_type": "stream",
     "text": [
      "Data Size: 77591\n",
      "문장의 최단 길이: 1\n",
      "문장의 최장 길이: 377\n",
      "문장의 평균 길이: 64\n"
     ]
    },
    {
     "data": {
      "image/png": "[encoded data removed]",
      "text/plain": [
       "<Figure size 432x288 with 1 Axes>"
      ]
     },
     "metadata": {
      "needs_background": "light"
     },
     "output_type": "display_data"
    }
   ],
   "source": [
    "min_len = 999\n",
    "max_len = 0\n",
    "sum_len = 0\n",
    "\n",
    "cleaned_corpus = list(set(raw))  # set를 사용해서 중복을 제거합니다.\n",
    "print(\"Data Size:\", len(cleaned_corpus))\n",
    "\n",
    "for sen in cleaned_corpus:\n",
    "    length = len(sen)\n",
    "    if min_len > length: min_len = length\n",
    "    if max_len < length: max_len = length\n",
    "    sum_len += length\n",
    "\n",
    "print(\"문장의 최단 길이:\", min_len)\n",
    "print(\"문장의 최장 길이:\", max_len)\n",
    "print(\"문장의 평균 길이:\", sum_len // len(cleaned_corpus))\n",
    "\n",
    "sentence_length = np.zeros((max_len), dtype=np.int)\n",
    "\n",
    "for sen in cleaned_corpus:   # 중복이 제거된 코퍼스 기준\n",
    "    sentence_length[len(sen)-1] += 1\n",
    "\n",
    "plt.bar(range(max_len), sentence_length, width=1.0)\n",
    "plt.title(\"Sentence Length Distribution\")\n",
    "plt.show()"
   ]
  },
  {
   "cell_type": "code",
   "execution_count": 5,
   "id": "sorted-lotus",
   "metadata": {},
   "outputs": [
    {
     "data": {
      "image/png": "[encoded data removed]",
      "text/plain": [
       "<Figure size 432x288 with 1 Axes>"
      ]
     },
     "metadata": {
      "needs_background": "light"
     },
     "output_type": "display_data"
    }
   ],
   "source": [
    "max_len = 150\n",
    "min_len = 10\n",
    "\n",
    "# 길이 10 미만 제거, 길이 150 미만 제거\n",
    "# 길이 조건에 맞는 문장만 선택합니다.\n",
    "filtered_corpus = [s for s in cleaned_corpus if (len(s) < max_len) & (len(s) >= min_len)]\n",
    "\n",
    "# 분포도를 다시 그려봅니다.\n",
    "sentence_length = np.zeros((max_len), dtype=np.int)\n",
    "\n",
    "for sen in filtered_corpus:\n",
    "    sentence_length[len(sen)-1] += 1\n",
    "\n",
    "plt.bar(range(max_len), sentence_length, width=1.0)\n",
    "plt.title(\"Sentence Length Distribution\")\n",
    "plt.show()"
   ]
  },
  {
   "cell_type": "code",
   "execution_count": 6,
   "id": "covered-attention",
   "metadata": {},
   "outputs": [
    {
     "name": "stdout",
     "output_type": "stream",
     "text": [
      "-rw-r--r-- 1 root root 376892 Oct  4 06:22 korean_spm.model\r\n",
      "-rw-r--r-- 1 root root 146388 Oct  4 06:22 korean_spm.vocab\r\n"
     ]
    }
   ],
   "source": [
    "temp_file = os.getenv('HOME')+'/aiffel/sp_tokenizer/data/korean-english-park.train.ko.temp'\n",
    "\n",
    "vocab_size = 8000\n",
    "\n",
    "with open(temp_file, 'w') as f:\n",
    "    for row in filtered_corpus:   # 이전 스텝에서 정제했던 corpus를 활용합니다.\n",
    "        f.write(str(row) + '\\n')\n",
    "\n",
    "spm.SentencePieceTrainer.Train(\n",
    "    '--input={} --model_prefix=korean_spm --vocab_size={}'.format(temp_file, vocab_size)    \n",
    ")\n",
    "#위 Train에서  --model_type = 'unigram'이 디폴트 적용되어 있습니다. --model_type = 'bpe' 로 옵션을 주어 변경할 수 있습니다.\n",
    "\n",
    "!ls -l korean_spm*"
   ]
  },
  {
   "cell_type": "markdown",
   "id": "white-teens",
   "metadata": {},
   "source": [
    "SentencePiece 모델 학습 완료 및 korean_spm.model, korean_spm.vocab 파일 생성"
   ]
  },
  {
   "cell_type": "markdown",
   "id": "bound-queue",
   "metadata": {},
   "source": [
    "# 3. Tokenizer 함수 작성"
   ]
  },
  {
   "cell_type": "markdown",
   "id": "departmental-suffering",
   "metadata": {},
   "source": [
    "SentencePiece를 활용한 Tokenizer 함수 작성\n",
    "1. 매개변수로 토큰화된 문장의 list를 전달하는 대신 온전한 문장의 list를 전달\n",
    "2. 생성된 vocab 파일을 읽어와 {<word> : <idx>} 형태를 가지는 word_index 사전과 {<idx> : <word>} 형태를 가지는 index_word 사전을 생성하고 함께 반환\n",
    "3. 리턴값인 tensor는 토큰화한 후 Encoding된 문장임. 바로 학습에 사용할 수 있도록 Padding 함."
   ]
  },
  {
   "cell_type": "code",
   "execution_count": 7,
   "id": "fuzzy-messaging",
   "metadata": {},
   "outputs": [
    {
     "name": "stdout",
     "output_type": "stream",
     "text": [
      "[1244, 11, 306, 7, 3599, 11, 286, 38, 3]\n",
      "['▁아버지', '가', '방', '에', '들어', '가', '신', '다', '.']\n",
      "아버지가방에들어가신다.\n"
     ]
    }
   ],
   "source": [
    "s = spm.SentencePieceProcessor()\n",
    "s.Load('korean_spm.model')\n",
    "\n",
    "# SentencePiece를 활용한 sentence -> encoding\n",
    "tokensIDs = s.EncodeAsIds('아버지가방에들어가신다.')\n",
    "print(tokensIDs)\n",
    "\n",
    "# SentencePiece를 활용한 sentence -> encoded pieces\n",
    "print(s.SampleEncodeAsPieces('아버지가방에들어가신다.',1, 0.0))\n",
    "\n",
    "# SentencePiece를 활용한 encoding -> sentence 복원\n",
    "print(s.DecodeIds(tokensIDs))"
   ]
  },
  {
   "cell_type": "code",
   "execution_count": 8,
   "id": "saved-mitchell",
   "metadata": {},
   "outputs": [],
   "source": [
    "def sp_tokenize(s, corpus):\n",
    "\n",
    "    tensor = []\n",
    "\n",
    "    for sen in corpus:\n",
    "        tensor.append(s.EncodeAsIds(sen))\n",
    "\n",
    "    with open(\"./korean_spm.vocab\", 'r') as f:\n",
    "        vocab = f.readlines()\n",
    "\n",
    "    word_index = {}\n",
    "    index_word = {}\n",
    "\n",
    "    for idx, line in enumerate(vocab):\n",
    "        word = line.split(\"\\t\")[0]\n",
    "\n",
    "        word_index.update({idx:word})\n",
    "        index_word.update({word:idx})\n",
    "\n",
    "    tensor = tf.keras.preprocessing.sequence.pad_sequences(tensor, padding='pre',maxlen=80)\n",
    "\n",
    "    return tensor, word_index, index_word"
   ]
  },
  {
   "cell_type": "code",
   "execution_count": 9,
   "id": "needed-malawi",
   "metadata": {},
   "outputs": [
    {
     "name": "stdout",
     "output_type": "stream",
     "text": [
      "[[   0    0    0    0    0    0    0    0    0    0    0    0    0    0\n",
      "     0    0    0    0    0    0    0    0    0    0    0    0    0    0\n",
      "     0    0    0    0    0    0    0    0    0    0    0    0    0    0\n",
      "     0    0    0    0    0    0    0    0    0    0    0    0    0    0\n",
      "     0    0    0    0    0    0    0    0    0    0    0    0    0    0\n",
      "     0    0    0 1949 5662    5    4 7975 1983    3]\n",
      " [   0    0    0    0    0    0    0    0    0    0    0    0    0    0\n",
      "     0    0    0    0    0    0    0    0    0    0    0    0    0    0\n",
      "     0    0    0    0    0    0    0    0    0    0    0    0    0    0\n",
      "     0    0    0    0    0    0    0    0    0    0    0    0    0    0\n",
      "     0    0    0    0    0    0    0    0    0    0  107 1638  101    4\n",
      "     0  419   11    4   14    0 1969    3    3    3]]\n"
     ]
    }
   ],
   "source": [
    "my_corpus = ['나는 밥을 먹었습니다.', '그러나 여전히 ㅠㅠ 배가 고픕니다...']\n",
    "tensor, word_index, index_word = sp_tokenize(s, my_corpus)\n",
    "print(tensor)"
   ]
  },
  {
   "cell_type": "markdown",
   "id": "exclusive-black",
   "metadata": {},
   "source": [
    "# 4. 네이버 영화리뷰 감정 분석 문제에 SentencePiece 적용\n",
    "* 네이버 영화리뷰 감정 분석 코퍼스에 SentencePiece를 적용시킨 모델 학습하기\n",
    "* 학습된 모델로 sp_tokenize() 메소드 구현하기\n",
    "* 구현된 토크나이저를 적용하여 네이버 영화리뷰 감정 분석 모델을 재학습하기\n",
    "* KoNLPy 형태소 분석기를 사용한 모델과 성능 비교하기\n",
    "* (보너스) SentencePiece 모델의 model_type, vocab_size 등을 변경해 가면서 성능 개선 여부 확인하기"
   ]
  },
  {
   "cell_type": "markdown",
   "id": "capable-romania",
   "metadata": {},
   "source": [
    "* data\n",
    " * https://github.com/e9t/nsmc/"
   ]
  },
  {
   "cell_type": "code",
   "execution_count": 10,
   "id": "acceptable-bleeding",
   "metadata": {},
   "outputs": [
    {
     "data": {
      "text/html": [
       "<div>\n",
       "<style scoped>\n",
       "    .dataframe tbody tr th:only-of-type {\n",
       "        vertical-align: middle;\n",
       "    }\n",
       "\n",
       "    .dataframe tbody tr th {\n",
       "        vertical-align: top;\n",
       "    }\n",
       "\n",
       "    .dataframe thead th {\n",
       "        text-align: right;\n",
       "    }\n",
       "</style>\n",
       "<table border=\"1\" class=\"dataframe\">\n",
       "  <thead>\n",
       "    <tr style=\"text-align: right;\">\n",
       "      <th></th>\n",
       "      <th>id</th>\n",
       "      <th>document</th>\n",
       "      <th>label</th>\n",
       "    </tr>\n",
       "  </thead>\n",
       "  <tbody>\n",
       "    <tr>\n",
       "      <th>0</th>\n",
       "      <td>9976970</td>\n",
       "      <td>아 더빙.. 진짜 짜증나네요 목소리</td>\n",
       "      <td>0</td>\n",
       "    </tr>\n",
       "    <tr>\n",
       "      <th>1</th>\n",
       "      <td>3819312</td>\n",
       "      <td>흠...포스터보고 초딩영화줄....오버연기조차 가볍지 않구나</td>\n",
       "      <td>1</td>\n",
       "    </tr>\n",
       "    <tr>\n",
       "      <th>2</th>\n",
       "      <td>10265843</td>\n",
       "      <td>너무재밓었다그래서보는것을추천한다</td>\n",
       "      <td>0</td>\n",
       "    </tr>\n",
       "    <tr>\n",
       "      <th>3</th>\n",
       "      <td>9045019</td>\n",
       "      <td>교도소 이야기구먼 ..솔직히 재미는 없다..평점 조정</td>\n",
       "      <td>0</td>\n",
       "    </tr>\n",
       "    <tr>\n",
       "      <th>4</th>\n",
       "      <td>6483659</td>\n",
       "      <td>사이몬페그의 익살스런 연기가 돋보였던 영화!스파이더맨에서 늙어보이기만 했던 커스틴 ...</td>\n",
       "      <td>1</td>\n",
       "    </tr>\n",
       "  </tbody>\n",
       "</table>\n",
       "</div>"
      ],
      "text/plain": [
       "         id                                           document  label\n",
       "0   9976970                                아 더빙.. 진짜 짜증나네요 목소리      0\n",
       "1   3819312                  흠...포스터보고 초딩영화줄....오버연기조차 가볍지 않구나      1\n",
       "2  10265843                                  너무재밓었다그래서보는것을추천한다      0\n",
       "3   9045019                      교도소 이야기구먼 ..솔직히 재미는 없다..평점 조정      0\n",
       "4   6483659  사이몬페그의 익살스런 연기가 돋보였던 영화!스파이더맨에서 늙어보이기만 했던 커스틴 ...      1"
      ]
     },
     "execution_count": 10,
     "metadata": {},
     "output_type": "execute_result"
    }
   ],
   "source": [
    "train_data = pd.read_table('~/aiffel/sp_tokenizer/ratings_train.txt')\n",
    "test_data = pd.read_table('~/aiffel/sp_tokenizer/ratings_test.txt')\n",
    "\n",
    "train_data.head()"
   ]
  },
  {
   "cell_type": "markdown",
   "id": "retired-murder",
   "metadata": {},
   "source": [
    "## 전처리"
   ]
  },
  {
   "cell_type": "code",
   "execution_count": 11,
   "id": "conceptual-process",
   "metadata": {},
   "outputs": [
    {
     "name": "stdout",
     "output_type": "stream",
     "text": [
      "리뷰 개수: 150000\n",
      "Nan 확인: True\n"
     ]
    }
   ],
   "source": [
    "print('리뷰 개수:', len(train_data))\n",
    "print('Nan 확인:', train_data.isnull().values.any())"
   ]
  },
  {
   "cell_type": "code",
   "execution_count": 12,
   "id": "committed-thunder",
   "metadata": {},
   "outputs": [],
   "source": [
    "train_data.drop_duplicates(subset=['document'], inplace=True)\n",
    "train_data = train_data.dropna(how = 'any') \n",
    "train_data['document'] = train_data['document'].str.replace(\"[^ㄱ-ㅎㅏ-ㅣ가-힣 ]\",\"\")\n",
    "train_data['document'] = train_data['document'].str.replace('^ +', \"\")\n",
    "train_data['document'].replace('', np.nan, inplace=True)\n",
    "train_data = train_data.dropna(how = 'any')\n",
    "\n",
    "test_data.drop_duplicates(subset=['document'], inplace=True)\n",
    "test_data['document'] = test_data['document'].str.replace(\"[^ㄱ-ㅎㅏ-ㅣ가-힣 ]\",\"\")\n",
    "test_data['document'] = test_data['document'].str.replace('^ +', \"\") \n",
    "test_data['document'].replace('', np.nan, inplace=True) \n",
    "test_data = test_data.dropna(how = 'any')"
   ]
  },
  {
   "cell_type": "code",
   "execution_count": 13,
   "id": "answering-margin",
   "metadata": {},
   "outputs": [
    {
     "name": "stdout",
     "output_type": "stream",
     "text": [
      "train_data 리뷰 개수: 145393\n",
      "test_data 리뷰 개수: 48852\n"
     ]
    }
   ],
   "source": [
    "print('train_data 리뷰 개수:', len(train_data))\n",
    "print('test_data 리뷰 개수:', len(test_data))"
   ]
  },
  {
   "cell_type": "markdown",
   "id": "classical-snake",
   "metadata": {},
   "source": [
    "## 데이터 길이 분포 확인 및 적용"
   ]
  },
  {
   "cell_type": "code",
   "execution_count": 14,
   "id": "marine-radical",
   "metadata": {},
   "outputs": [
    {
     "name": "stdout",
     "output_type": "stream",
     "text": [
      "Data size: 143620\n",
      "문장의 최단 길이: 1\n",
      "문장의 최장 길이: 140\n",
      "문장의 평균 길이: 33\n"
     ]
    },
    {
     "data": {
      "image/png": "[encoded data removed]",
      "text/plain": [
       "<Figure size 432x288 with 1 Axes>"
      ]
     },
     "metadata": {
      "needs_background": "light"
     },
     "output_type": "display_data"
    }
   ],
   "source": [
    "min_len = 999\n",
    "max_len = 0\n",
    "sum_len = 0\n",
    "\n",
    "cleaned_corpus = list(set(train_data['document']))\n",
    "print(\"Data size:\", len(cleaned_corpus))\n",
    "\n",
    "for sen in train_data['document']:\n",
    "    length = len(sen)\n",
    "    \n",
    "    # 문장 최소 길이 찾기\n",
    "    if min_len > length:\n",
    "        min_len = length\n",
    "    \n",
    "    # 문장 최대 길이 찾기\n",
    "    if max_len < length:\n",
    "        max_len = length\n",
    "    \n",
    "    # 전체 문장을 합쳐서 나온 길이\n",
    "    sum_len += length\n",
    "    \n",
    "print(\"문장의 최단 길이:\", min_len)\n",
    "print(\"문장의 최장 길이:\", max_len)\n",
    "print(\"문장의 평균 길이:\", sum_len // len(train_data))\n",
    "\n",
    "# 전체 길이를 0 벡터로 만듦. \n",
    "# 길이에 따른 문장의 수를 저장하기 위해서 0으로 이루어진 list를 만듦.\n",
    "sentence_length = np.zeros((max_len), dtype=np.int)\n",
    "\n",
    "# 0으로 이루어진 벡터에 문장 count를 더한 뒤 넣는다.\n",
    "for sen in train_data['document']:\n",
    "    sentence_length[len(sen)-1] += 1 \n",
    "\n",
    "plt.bar(range(max_len), sentence_length, width=1.0) # 너비는 1.0씩 늘어나도록 설정\n",
    "plt.title(\"Sentence Length Distribution\")\n",
    "plt.show()"
   ]
  },
  {
   "cell_type": "markdown",
   "id": "bibliographic-capitol",
   "metadata": {},
   "source": [
    "* 데이터 편향으로 인해 학습이 잘 안될 것을 고려하여 maxlen 80 이상을 잘랐음. \n",
    "* minlen은 5-10이하는 자르려고 했으나 전체 분포를 생각했을 때 고르게 분포하고 있어서 제거 하지 않음.\n",
    " * 추후 학습이 잘 되지 않는다면 다시 고려해야 될 부분."
   ]
  },
  {
   "cell_type": "code",
   "execution_count": 15,
   "id": "remarkable-standard",
   "metadata": {},
   "outputs": [
    {
     "data": {
      "image/png": "[encoded data removed]",
      "text/plain": [
       "<Figure size 432x288 with 1 Axes>"
      ]
     },
     "metadata": {
      "needs_background": "light"
     },
     "output_type": "display_data"
    }
   ],
   "source": [
    "max_len = 80\n",
    "min_len = 1\n",
    "\n",
    "# 길이 조건에 맞는 문장만 선택합니다.\n",
    "filtered_corpus = [s for s in cleaned_corpus if (len(s) < max_len) & (len(s) >= min_len)]\n",
    "\n",
    "# 분포도를 다시 그려봅니다.\n",
    "sentence_length = np.zeros((max_len), dtype=np.int)\n",
    "\n",
    "for sen in filtered_corpus:\n",
    "    sentence_length[len(sen)-1] += 1\n",
    "\n",
    "plt.bar(range(max_len), sentence_length, width=1.0)\n",
    "plt.title(\"Sentence Length Distribution\")\n",
    "plt.show()"
   ]
  },
  {
   "cell_type": "markdown",
   "id": "dense-morocco",
   "metadata": {},
   "source": [
    "## Sentencepiece 적용"
   ]
  },
  {
   "cell_type": "markdown",
   "id": "intimate-nomination",
   "metadata": {},
   "source": [
    "Sentencepiece를 unigram과 BPE를 따로 확인해보기 위해 나눈다."
   ]
  },
  {
   "cell_type": "markdown",
   "id": "imperial-equation",
   "metadata": {},
   "source": [
    "### Sentencepiece unigram"
   ]
  },
  {
   "cell_type": "code",
   "execution_count": 16,
   "id": "severe-greene",
   "metadata": {},
   "outputs": [
    {
     "name": "stdout",
     "output_type": "stream",
     "text": [
      "-rw-r--r-- 1 root root 378413 Oct  4 06:22 naver_korean_spm01.model\r\n",
      "-rw-r--r-- 1 root root 147946 Oct  4 06:22 naver_korean_spm01.vocab\r\n"
     ]
    }
   ],
   "source": [
    "temp_file = os.getenv('HOME')+'/aiffel/sp_tokenizer/data/korean-english-park.train.ko.temp'\n",
    "\n",
    "vocab_size = 8000\n",
    "\n",
    "with open(temp_file, 'w') as f:\n",
    "    for row in filtered_corpus:   # 이전 스텝에서 정제했던 corpus를 활용합니다.\n",
    "        f.write(str(row) + '\\n')\n",
    "\n",
    "spm.SentencePieceTrainer.Train(\n",
    "    '--input={} --model_prefix=naver_korean_spm01  --vocab_size={}'.format(temp_file, vocab_size)    \n",
    ")\n",
    "#위 Train에서  --model_type = 'unigram'이 디폴트 적용되어 있습니다. --model_type = 'bpe' 로 옵션을 주어 변경할 수 있습니다.\n",
    "\n",
    "!ls -l naver_korean_spm01*"
   ]
  },
  {
   "cell_type": "markdown",
   "id": "romance-specification",
   "metadata": {},
   "source": [
    "### Sentencepiece BPE(Byte Pair Encoding)"
   ]
  },
  {
   "cell_type": "code",
   "execution_count": 17,
   "id": "continent-strength",
   "metadata": {},
   "outputs": [
    {
     "name": "stdout",
     "output_type": "stream",
     "text": [
      "-rw-r--r-- 1 root root 373708 Oct  4 06:22 naver_korean_spm02.model\r\n",
      "-rw-r--r-- 1 root root 118928 Oct  4 06:22 naver_korean_spm02.vocab\r\n"
     ]
    }
   ],
   "source": [
    "temp_file = os.getenv('HOME')+'/aiffel/sp_tokenizer/data/korean-english-park.train.ko.temp'\n",
    "\n",
    "vocab_size = 8000\n",
    "\n",
    "with open(temp_file, 'w') as f:\n",
    "    for row in filtered_corpus:   # 이전 스텝에서 정제했던 corpus를 활용합니다.\n",
    "        f.write(str(row) + '\\n')\n",
    "\n",
    "spm.SentencePieceTrainer.Train(\n",
    "    '--input={} --model_prefix=naver_korean_spm02 --model_type=bpe --vocab_size={}'.format(temp_file, vocab_size)    \n",
    ")\n",
    "#위 Train에서  --model_type = 'unigram'이 디폴트 적용되어 있습니다. --model_type = 'bpe' 로 옵션을 주어 변경할 수 있습니다.\n",
    "\n",
    "!ls -l naver_korean_spm02*"
   ]
  },
  {
   "cell_type": "markdown",
   "id": "diagnostic-consensus",
   "metadata": {},
   "source": [
    "## 학습된 모델로 sp_tokenize() 메소드 구현하기"
   ]
  },
  {
   "cell_type": "code",
   "execution_count": 18,
   "id": "scheduled-fields",
   "metadata": {},
   "outputs": [],
   "source": [
    "def sp_tokenize_unigram(s, corpus):\n",
    "\n",
    "    tensor = []\n",
    "\n",
    "    for sen in corpus:\n",
    "        tensor.append(s.EncodeAsIds(sen))\n",
    "\n",
    "    with open(\"./naver_korean_spm01.vocab\", 'r') as f:\n",
    "        vocab = f.readlines()\n",
    "\n",
    "    word_index = {}\n",
    "    index_word = {}\n",
    "\n",
    "    for idx, line in enumerate(vocab):\n",
    "        word = line.split(\"\\t\")[0]\n",
    "\n",
    "        word_index.update({word:idx})\n",
    "        index_word.update({idx:word})\n",
    "    # 패딩을 하였다.\n",
    "    \n",
    "    #tensor = tf.keras.preprocessing.sequence.pad_sequences(tensor, padding='post')\n",
    "    tensor = tf.keras.preprocessing.sequence.pad_sequences(tensor, padding='pre')\n",
    "    \n",
    "    return tensor, word_index, index_word"
   ]
  },
  {
   "cell_type": "code",
   "execution_count": 19,
   "id": "stretch-classroom",
   "metadata": {},
   "outputs": [],
   "source": [
    "def sp_tokenize_bpe(s, corpus):\n",
    "\n",
    "    tensor = []\n",
    "\n",
    "    for sen in corpus:\n",
    "        tensor.append(s.EncodeAsIds(sen))\n",
    "   \n",
    "    with open(\"./naver_korean_spm02.vocab\", 'r') as f:\n",
    "        vocab = f.readlines()\n",
    "    \n",
    "    word_index = {}\n",
    "    index_word = {}\n",
    "\n",
    "    for idx, line in enumerate(vocab):\n",
    "        word = line.split(\"\\t\")[0]\n",
    "\n",
    "        word_index.update({word:idx})\n",
    "        index_word.update({idx:word})\n",
    "    # 패딩을 하였다.\n",
    "    \n",
    "    #tensor = tf.keras.preprocessing.sequence.pad_sequences(tensor, padding='post')\n",
    "    tensor = tf.keras.preprocessing.sequence.pad_sequences(tensor, padding='pre')\n",
    "    \n",
    "    return tensor, word_index, index_word"
   ]
  },
  {
   "cell_type": "markdown",
   "id": "registered-austria",
   "metadata": {},
   "source": [
    "## 구현된 토크나이저를 적용하여 네이버 영화리뷰 감정 분석 모델을 재학습하기"
   ]
  },
  {
   "cell_type": "code",
   "execution_count": 20,
   "id": "invalid-excerpt",
   "metadata": {},
   "outputs": [
    {
     "data": {
      "text/plain": [
       "True"
      ]
     },
     "execution_count": 20,
     "metadata": {},
     "output_type": "execute_result"
    }
   ],
   "source": [
    "s_unigram = spm.SentencePieceProcessor()\n",
    "s_unigram.Load('naver_korean_spm01.model')"
   ]
  },
  {
   "cell_type": "code",
   "execution_count": 21,
   "id": "processed-integer",
   "metadata": {},
   "outputs": [],
   "source": [
    "def load_data_unigram(train_data, test_data, stpiece_model):\n",
    "    sentences =[]\n",
    "    train_data.drop_duplicates(subset=['document'], inplace=True)\n",
    "    train_data = train_data.dropna(how = 'any') \n",
    "\n",
    "    test_data.drop_duplicates(subset=['document'], inplace=True)\n",
    "    test_data = test_data.dropna(how = 'any') \n",
    "\n",
    "    #train데이터 토큰화\n",
    "    sentences = train_data['document'] \n",
    "    # unigram\n",
    "    tensor, word_index, index_word = sp_tokenize_unigram(s_unigram, sentences)\n",
    "    \n",
    "    #train문장데이터를 수치화로 표현화한 리스트\n",
    "    X_train = []\n",
    "    ## 수치화된 문장(텐서)를 리스트(sentences_index)에 넣어준다. \n",
    "    for array in tensor:\n",
    "        X_train.append(array)\n",
    "        \n",
    "    #test데이터 토큰화\n",
    "    sentences = test_data['document']\n",
    "    # unigram\n",
    "    tensor, word_index, index_word = sp_tokenize_unigram(s_unigram, sentences)\n",
    "    \n",
    "    # test문장데이터를 수치화로 표현화한 리스트\n",
    "    X_test = []\n",
    "    for array in tensor:\n",
    "        X_test.append(array)\n",
    "        \n",
    "    X_train = np.asarray(X_train)\n",
    "    X_test = np.asarray(X_test)\n",
    "    \n",
    "    return X_train, np.array(list(train_data['label'])), X_test, np.array(list(test_data['label'])), word_index"
   ]
  },
  {
   "cell_type": "code",
   "execution_count": 22,
   "id": "female-hollow",
   "metadata": {},
   "outputs": [
    {
     "data": {
      "text/plain": [
       "True"
      ]
     },
     "execution_count": 22,
     "metadata": {},
     "output_type": "execute_result"
    }
   ],
   "source": [
    "s_bpe = spm.SentencePieceProcessor()\n",
    "s_bpe.Load('naver_korean_spm02.model')"
   ]
  },
  {
   "cell_type": "code",
   "execution_count": 23,
   "id": "responsible-conditions",
   "metadata": {},
   "outputs": [],
   "source": [
    "def load_data_bpe(train_data, test_data, stpiece_model):\n",
    "    sentences =[]\n",
    "    train_data.drop_duplicates(subset=['document'], inplace=True)\n",
    "    train_data = train_data.dropna(how = 'any') \n",
    "\n",
    "    test_data.drop_duplicates(subset=['document'], inplace=True)\n",
    "    test_data = test_data.dropna(how = 'any') \n",
    "\n",
    "    #train데이터 토큰화\n",
    "    sentences = train_data['document'] \n",
    "    # BPE\n",
    "    tensor, word_index, index_word = sp_tokenize_bpe(s_bpe, sentences)\n",
    "    \n",
    "    #train문장데이터를 수치화로 표현화한 리스트\n",
    "    X_train = []\n",
    "    ## 수치화된 문장(텐서)를 리스트(sentences_index)에 넣어준다. \n",
    "    for array in tensor:\n",
    "        X_train.append(array)\n",
    "        \n",
    "    #test데이터 토큰화\n",
    "    sentences = test_data['document']\n",
    "    # bpe\n",
    "    tensor, word_index, index_word = sp_tokenize_bpe(s_bpe, sentences)\n",
    "    \n",
    "    # test문장데이터를 수치화로 표현화한 리스트\n",
    "    X_test = []\n",
    "    for array in tensor:\n",
    "        X_test.append(array)\n",
    "        \n",
    "    X_train = np.asarray(X_train)\n",
    "    X_test = np.asarray(X_test)\n",
    "    \n",
    "    return X_train, np.array(list(train_data['label'])), X_test, np.array(list(test_data['label'])), word_index"
   ]
  },
  {
   "cell_type": "code",
   "execution_count": 24,
   "id": "incredible-filter",
   "metadata": {},
   "outputs": [],
   "source": [
    "#unigram\n",
    "X_train, y_train, X_test, y_test, word_to_index = load_data_unigram(train_data, test_data,0)"
   ]
  },
  {
   "cell_type": "code",
   "execution_count": 25,
   "id": "weekly-salad",
   "metadata": {},
   "outputs": [],
   "source": [
    "# bpe\n",
    "X_train_, y_train_, X_test_, y_test_, word_to_index_ = load_data_bpe(train_data, test_data,1)"
   ]
  },
  {
   "cell_type": "code",
   "execution_count": 26,
   "id": "owned-absolute",
   "metadata": {},
   "outputs": [
    {
     "name": "stdout",
     "output_type": "stream",
     "text": [
      "(143620, 133)\n",
      "(143620, 111)\n"
     ]
    }
   ],
   "source": [
    "print(X_train.shape)\n",
    "print(X_train_.shape)"
   ]
  },
  {
   "cell_type": "markdown",
   "id": "possible-syracuse",
   "metadata": {},
   "source": [
    "### 데이터셋 나누기"
   ]
  },
  {
   "cell_type": "code",
   "execution_count": 27,
   "id": "higher-wiring",
   "metadata": {},
   "outputs": [
    {
     "name": "stdout",
     "output_type": "stream",
     "text": [
      "(143620, 133)\n",
      "(143620,)\n",
      "(133620, 133)\n",
      "(133620,)\n"
     ]
    }
   ],
   "source": [
    "# validation set 10000건 분리\n",
    "X_val = X_train[:10000]   \n",
    "y_val = y_train[:10000]\n",
    "\n",
    "# validation set을 제외한 나머지 15000건\n",
    "partial_X_train = X_train[10000:]  \n",
    "partial_y_train = y_train[10000:]\n",
    "\n",
    "print(X_train.shape)\n",
    "print(y_train.shape)\n",
    "print(partial_X_train.shape)\n",
    "print(partial_y_train.shape)"
   ]
  },
  {
   "cell_type": "code",
   "execution_count": 28,
   "id": "grave-findings",
   "metadata": {},
   "outputs": [
    {
     "name": "stdout",
     "output_type": "stream",
     "text": [
      "(143620, 111)\n",
      "(143620,)\n",
      "(133620, 111)\n",
      "(133620,)\n"
     ]
    }
   ],
   "source": [
    "# validation set 10000건 분리\n",
    "X_val_ = X_train_[:10000]   \n",
    "y_val_ = y_train_[:10000]\n",
    "\n",
    "# validation set을 제외한 나머지 15000건\n",
    "partial_X_train_ = X_train_[10000:]  \n",
    "partial_y_train_ = y_train_[10000:]\n",
    "\n",
    "print(X_train_.shape)\n",
    "print(y_train_.shape)\n",
    "print(partial_X_train_.shape)\n",
    "print(partial_y_train_.shape)"
   ]
  },
  {
   "cell_type": "markdown",
   "id": "light-spider",
   "metadata": {},
   "source": [
    "### 모델\n",
    "LSTM 모델을 사용"
   ]
  },
  {
   "cell_type": "code",
   "execution_count": 29,
   "id": "primary-gathering",
   "metadata": {},
   "outputs": [
    {
     "name": "stdout",
     "output_type": "stream",
     "text": [
      "Model: \"sequential\"\n",
      "_________________________________________________________________\n",
      "Layer (type)                 Output Shape              Param #   \n",
      "=================================================================\n",
      "embedding (Embedding)        (None, None, 150)         1200000   \n",
      "_________________________________________________________________\n",
      "lstm (LSTM)                  (None, 150)               180600    \n",
      "_________________________________________________________________\n",
      "dense (Dense)                (None, 10)                1510      \n",
      "_________________________________________________________________\n",
      "dense_1 (Dense)              (None, 1)                 11        \n",
      "=================================================================\n",
      "Total params: 1,382,121\n",
      "Trainable params: 1,382,121\n",
      "Non-trainable params: 0\n",
      "_________________________________________________________________\n"
     ]
    }
   ],
   "source": [
    "vocab_size = 8000    # 어휘 사전의 크기입니다(8,000개의 단어)\n",
    "word_vector_dim = 150  # 워드 벡터의 차원수 (변경가능한 하이퍼파라미터)\n",
    "\n",
    "\n",
    "#LSTM\n",
    "model = keras.Sequential()\n",
    "model.add(Embedding(vocab_size, word_vector_dim, input_shape=(None,)))\n",
    "model.add(LSTM(word_vector_dim))   # 가장 널리 쓰이는 RNN인 LSTM 레이어\n",
    "model.add(Dense(10, activation='relu'))\n",
    "model.add(Dense(1, activation='sigmoid')) \n",
    "model.summary()"
   ]
  },
  {
   "cell_type": "code",
   "execution_count": 30,
   "id": "present-northwest",
   "metadata": {},
   "outputs": [
    {
     "name": "stdout",
     "output_type": "stream",
     "text": [
      "Model: \"sequential_1\"\n",
      "_________________________________________________________________\n",
      "Layer (type)                 Output Shape              Param #   \n",
      "=================================================================\n",
      "embedding_1 (Embedding)      (None, None, 150)         1200000   \n",
      "_________________________________________________________________\n",
      "lstm_1 (LSTM)                (None, 150)               180600    \n",
      "_________________________________________________________________\n",
      "dense_2 (Dense)              (None, 10)                1510      \n",
      "_________________________________________________________________\n",
      "dense_3 (Dense)              (None, 1)                 11        \n",
      "=================================================================\n",
      "Total params: 1,382,121\n",
      "Trainable params: 1,382,121\n",
      "Non-trainable params: 0\n",
      "_________________________________________________________________\n"
     ]
    }
   ],
   "source": [
    "vocab_size = 8000    # 어휘 사전의 크기입니다(8,000개의 단어)\n",
    "word_vector_dim = 150  # 워드 벡터의 차원수 (변경가능한 하이퍼파라미터)\n",
    "\n",
    "\n",
    "#LSTM\n",
    "model_ = keras.Sequential()\n",
    "model_.add(Embedding(vocab_size, word_vector_dim, input_shape=(None,)))\n",
    "model_.add(LSTM(word_vector_dim))   # 가장 널리 쓰이는 RNN인 LSTM 레이어\n",
    "model_.add(Dense(10, activation='relu'))\n",
    "model_.add(Dense(1, activation='sigmoid')) \n",
    "model_.summary()"
   ]
  },
  {
   "cell_type": "markdown",
   "id": "false-degree",
   "metadata": {},
   "source": [
    "### Sentencepiece unigram"
   ]
  },
  {
   "cell_type": "code",
   "execution_count": 31,
   "id": "statewide-portal",
   "metadata": {},
   "outputs": [
    {
     "name": "stdout",
     "output_type": "stream",
     "text": [
      "Epoch 1/10\n",
      "261/261 - 35s - loss: 0.4164 - accuracy: 0.8044 - val_loss: 0.3440 - val_accuracy: 0.8476\n",
      "Epoch 2/10\n",
      "261/261 - 31s - loss: 0.3255 - accuracy: 0.8580 - val_loss: 0.3313 - val_accuracy: 0.8543\n",
      "Epoch 3/10\n",
      "261/261 - 31s - loss: 0.2965 - accuracy: 0.8698 - val_loss: 0.3312 - val_accuracy: 0.8585\n",
      "Epoch 4/10\n",
      "261/261 - 31s - loss: 0.2681 - accuracy: 0.8825 - val_loss: 0.3408 - val_accuracy: 0.8581\n",
      "Epoch 5/10\n",
      "261/261 - 32s - loss: 0.2446 - accuracy: 0.8932 - val_loss: 0.3533 - val_accuracy: 0.8524\n",
      "Epoch 6/10\n",
      "261/261 - 31s - loss: 0.2222 - accuracy: 0.9035 - val_loss: 0.3797 - val_accuracy: 0.8536\n",
      "Epoch 7/10\n",
      "261/261 - 32s - loss: 0.1997 - accuracy: 0.9137 - val_loss: 0.3914 - val_accuracy: 0.8508\n",
      "Epoch 8/10\n",
      "261/261 - 31s - loss: 0.1771 - accuracy: 0.9246 - val_loss: 0.4273 - val_accuracy: 0.8460\n",
      "Epoch 9/10\n",
      "261/261 - 32s - loss: 0.1556 - accuracy: 0.9335 - val_loss: 0.4905 - val_accuracy: 0.8441\n",
      "Epoch 10/10\n",
      "261/261 - 32s - loss: 0.1361 - accuracy: 0.9422 - val_loss: 0.5393 - val_accuracy: 0.8419\n",
      "1513/1513 - 12s - loss: 0.5588 - accuracy: 0.8399\n",
      "[0.5588364601135254, 0.839942991733551]\n"
     ]
    }
   ],
   "source": [
    "model.compile(optimizer='adam',\n",
    "              loss='binary_crossentropy',\n",
    "              metrics=['accuracy'])\n",
    "              \n",
    "epochs=10  # 몇 epoch를 훈련하면 좋을지 결과를 보면서 바꾸어 봅시다. \n",
    "\n",
    "history_model = model.fit(partial_X_train, partial_y_train,\n",
    "                          epochs=epochs,\n",
    "                          batch_size=512,\n",
    "                          validation_data=(X_val, y_val),\n",
    "                          verbose=2)\n",
    "\n",
    "results = model.evaluate(X_test,  y_test, verbose=2)\n",
    "print(results)"
   ]
  },
  {
   "cell_type": "markdown",
   "id": "upset-mediterranean",
   "metadata": {},
   "source": [
    "### Sentencepiece BPE"
   ]
  },
  {
   "cell_type": "code",
   "execution_count": 32,
   "id": "breeding-portland",
   "metadata": {},
   "outputs": [
    {
     "name": "stdout",
     "output_type": "stream",
     "text": [
      "Epoch 1/10\n",
      "261/261 - 29s - loss: 0.4434 - accuracy: 0.7956 - val_loss: 0.3465 - val_accuracy: 0.8464\n",
      "Epoch 2/10\n",
      "261/261 - 27s - loss: 0.3277 - accuracy: 0.8577 - val_loss: 0.3343 - val_accuracy: 0.8504\n",
      "Epoch 3/10\n",
      "261/261 - 27s - loss: 0.2997 - accuracy: 0.8711 - val_loss: 0.3377 - val_accuracy: 0.8509\n",
      "Epoch 4/10\n",
      "261/261 - 27s - loss: 0.2721 - accuracy: 0.8825 - val_loss: 0.3470 - val_accuracy: 0.8523\n",
      "Epoch 5/10\n",
      "261/261 - 27s - loss: 0.2476 - accuracy: 0.8922 - val_loss: 0.3540 - val_accuracy: 0.8496\n",
      "Epoch 6/10\n",
      "261/261 - 27s - loss: 0.2254 - accuracy: 0.9021 - val_loss: 0.3837 - val_accuracy: 0.8488\n",
      "Epoch 7/10\n",
      "261/261 - 27s - loss: 0.2053 - accuracy: 0.9112 - val_loss: 0.4007 - val_accuracy: 0.8453\n",
      "Epoch 8/10\n",
      "261/261 - 27s - loss: 0.1877 - accuracy: 0.9189 - val_loss: 0.4393 - val_accuracy: 0.8374\n",
      "Epoch 9/10\n",
      "261/261 - 27s - loss: 0.1700 - accuracy: 0.9262 - val_loss: 0.4692 - val_accuracy: 0.8382\n",
      "Epoch 10/10\n",
      "261/261 - 27s - loss: 0.1497 - accuracy: 0.9348 - val_loss: 0.5537 - val_accuracy: 0.8380\n",
      "1513/1513 - 12s - loss: 0.5691 - accuracy: 0.8332\n",
      "[0.5691341757774353, 0.8332058787345886]\n"
     ]
    }
   ],
   "source": [
    "model_.compile(optimizer='adam',\n",
    "               loss='binary_crossentropy',\n",
    "               metrics=['accuracy'])\n",
    "              \n",
    "epochs=10  # 몇 epoch를 훈련하면 좋을지 결과를 보면서 바꾸어 봅시다. \n",
    "\n",
    "history_model_ = model_.fit(partial_X_train_, partial_y_train_,\n",
    "                            epochs=epochs,\n",
    "                            batch_size=512,\n",
    "                            validation_data=(X_val_, y_val_),\n",
    "                            verbose=2)\n",
    "\n",
    "results = model_.evaluate(X_test_,  y_test_, verbose=2)\n",
    "print(results)"
   ]
  },
  {
   "cell_type": "markdown",
   "id": "known-canyon",
   "metadata": {},
   "source": [
    "## KoNLPy 형태소 분석기를 사용한 모델과 성능 비교하기"
   ]
  },
  {
   "cell_type": "code",
   "execution_count": 33,
   "id": "generic-collective",
   "metadata": {},
   "outputs": [
    {
     "data": {
      "text/html": [
       "<div>\n",
       "<style scoped>\n",
       "    .dataframe tbody tr th:only-of-type {\n",
       "        vertical-align: middle;\n",
       "    }\n",
       "\n",
       "    .dataframe tbody tr th {\n",
       "        vertical-align: top;\n",
       "    }\n",
       "\n",
       "    .dataframe thead th {\n",
       "        text-align: right;\n",
       "    }\n",
       "</style>\n",
       "<table border=\"1\" class=\"dataframe\">\n",
       "  <thead>\n",
       "    <tr style=\"text-align: right;\">\n",
       "      <th></th>\n",
       "      <th>id</th>\n",
       "      <th>document</th>\n",
       "      <th>label</th>\n",
       "    </tr>\n",
       "  </thead>\n",
       "  <tbody>\n",
       "    <tr>\n",
       "      <th>0</th>\n",
       "      <td>9976970</td>\n",
       "      <td>아 더빙 진짜 짜증나네요 목소리</td>\n",
       "      <td>0</td>\n",
       "    </tr>\n",
       "    <tr>\n",
       "      <th>1</th>\n",
       "      <td>3819312</td>\n",
       "      <td>흠포스터보고 초딩영화줄오버연기조차 가볍지 않구나</td>\n",
       "      <td>1</td>\n",
       "    </tr>\n",
       "    <tr>\n",
       "      <th>2</th>\n",
       "      <td>10265843</td>\n",
       "      <td>너무재밓었다그래서보는것을추천한다</td>\n",
       "      <td>0</td>\n",
       "    </tr>\n",
       "  </tbody>\n",
       "</table>\n",
       "</div>"
      ],
      "text/plain": [
       "         id                    document  label\n",
       "0   9976970           아 더빙 진짜 짜증나네요 목소리      0\n",
       "1   3819312  흠포스터보고 초딩영화줄오버연기조차 가볍지 않구나      1\n",
       "2  10265843           너무재밓었다그래서보는것을추천한다      0"
      ]
     },
     "execution_count": 33,
     "metadata": {},
     "output_type": "execute_result"
    }
   ],
   "source": [
    "# 기존에 불러왔던 데이터를 동일하게 사용\n",
    "train_data.head(3)"
   ]
  },
  {
   "cell_type": "markdown",
   "id": "demonstrated-northern",
   "metadata": {},
   "source": [
    "### Mecab"
   ]
  },
  {
   "cell_type": "code",
   "execution_count": 34,
   "id": "raising-interference",
   "metadata": {},
   "outputs": [],
   "source": [
    "tokenizer = Mecab()"
   ]
  },
  {
   "cell_type": "markdown",
   "id": "incredible-newfoundland",
   "metadata": {},
   "source": [
    "### 전처리"
   ]
  },
  {
   "cell_type": "code",
   "execution_count": 35,
   "id": "legislative-kenya",
   "metadata": {},
   "outputs": [],
   "source": [
    "# stopwords 추가\n",
    "stopwords = ['의','가','이','은','들','는','좀','잘','걍','과','도','를',\n",
    "             '으로','자','에','와','한','하다','이','있','하','것','들',\n",
    "             '그','되','수','이','보','않','없','나','사람','주','아니',\n",
    "             '등','같','우리','때','년','가','한','지','대하','오','말',\n",
    "             '일','그렇','위하','때문','그것','두','말하','알','그러나',\n",
    "             '받','못하','일','그런','또','문제','더','사회','많','그리고',\n",
    "             '좋','크','따르','중','나오','가지','씨','시키','만들','지금',\n",
    "             '생각하','그러','속','하나','집','살','모르','적','월','데',\n",
    "             '자신','안','어떤','내','경우','명','생각','시간','그녀',\n",
    "             '다시','이런','앞','보이','번','나','다른','어떻','여자','개',\n",
    "             '전','들','사실','이렇','점','싶','말','정도','좀','원','잘','통하',\n",
    "             '소리','놓']\n",
    "\n",
    "stopwords = set(stopwords) # 117 -> 106"
   ]
  },
  {
   "cell_type": "code",
   "execution_count": 36,
   "id": "exclusive-leadership",
   "metadata": {},
   "outputs": [],
   "source": [
    "# 데이터의 중복 제거   \n",
    "# NaN 결측치 제거   \n",
    "# 한국어 토크나이저로 토큰화   \n",
    "# 불용어(Stopwords) 제거   \n",
    "# 사전word_to_index 구성   \n",
    "# 텍스트 스트링을 사전 인덱스 스트링으로 변환   \n",
    "# X_train, y_train, X_test, y_test, word_to_index 리턴  \n",
    "\n",
    "def load_data_macab(train_data, test_data, num_words=10000):\n",
    "    train_data.drop_duplicates(subset=['document'], inplace=True)\n",
    "    train_data = train_data.dropna(how = 'any') \n",
    "    test_data.drop_duplicates(subset=['document'], inplace=True)\n",
    "    test_data = test_data.dropna(how = 'any') \n",
    "\n",
    "    X_train = []\n",
    "    for sentence in train_data['document']:\n",
    "        temp_X = tokenizer.morphs(sentence) # 토큰화\n",
    "        temp_X = [word for word in temp_X if not word in stopwords] # 불용어 제거\n",
    "        X_train.append(temp_X)\n",
    "\n",
    "    X_test = []\n",
    "    for sentence in test_data['document']:\n",
    "        temp_X = tokenizer.morphs(sentence) # 토큰화\n",
    "        temp_X = [word for word in temp_X if not word in stopwords] # 불용어 제거\n",
    "        X_test.append(temp_X)\n",
    "\n",
    "    words = np.concatenate(X_train).tolist()\n",
    "    counter = Counter(words)\n",
    "    counter = counter.most_common(10000-4)\n",
    "    vocab = ['<PAD>', '<BOS>', '<UNK>', '<UNUSED>'] + [key for key, _ in counter]\n",
    "    word_to_index = {word:index for index, word in enumerate(vocab)}\n",
    "\n",
    "    def wordlist_to_indexlist(wordlist):\n",
    "        return [word_to_index[word] if word in word_to_index else word_to_index['<UNK>'] for word in wordlist]\n",
    "    \n",
    "    X_train = list(map(wordlist_to_indexlist, X_train))\n",
    "    #print(X_train[0])\n",
    "    X_test = list(map(wordlist_to_indexlist, X_test))\n",
    "    \n",
    "    ## X_train, y_train, X_test, y_test, word_to_index 리턴    \n",
    "    return X_train, np.array(list(train_data['label'])), X_test, np.array(list(test_data['label'])), word_to_index"
   ]
  },
  {
   "cell_type": "code",
   "execution_count": 37,
   "id": "authorized-myrtle",
   "metadata": {},
   "outputs": [],
   "source": [
    "X_train__, y_train__, X_test__, y_test__, word_to_index__ = load_data_macab(train_data, test_data)"
   ]
  },
  {
   "cell_type": "markdown",
   "id": "intimate-keeping",
   "metadata": {},
   "source": [
    "### 문장 최대 길이 maxlen 찾기"
   ]
  },
  {
   "cell_type": "code",
   "execution_count": 38,
   "id": "gross-plenty",
   "metadata": {},
   "outputs": [
    {
     "name": "stdout",
     "output_type": "stream",
     "text": [
      "문장길이 평균 :  11.404085225171738\n",
      "문장길이 최대 :  70\n",
      "문장길이 표준편차 :  9.246934819654808\n",
      "pad_sequences maxlen :  29\n",
      "전체 문장의 0.9326281580550911%가 maxlen 설정값 이내에 포함됩니다. \n"
     ]
    }
   ],
   "source": [
    "total_data_text = list(X_train__) + list(X_test__)\n",
    "# 텍스트데이터 문장길이의 리스트를 생성한 후\n",
    "num_tokens = [len(tokens) for tokens in total_data_text]\n",
    "num_tokens = np.array(num_tokens)\n",
    "# 문장길이의 평균값, 최대값, 표준편차를 계산해 본다. \n",
    "print('문장길이 평균 : ', np.mean(num_tokens))\n",
    "print('문장길이 최대 : ', np.max(num_tokens))\n",
    "print('문장길이 표준편차 : ', np.std(num_tokens))\n",
    "\n",
    "# 예를들어, 최대 길이를 (평균 + 2*표준편차)로 한다면,  \n",
    "max_tokens = np.mean(num_tokens) + 2 * np.std(num_tokens)\n",
    "maxlen = int(max_tokens)\n",
    "print('pad_sequences maxlen : ', maxlen)\n",
    "print('전체 문장의 {}%가 maxlen 설정값 이내에 포함됩니다. '.format(np.sum(num_tokens < max_tokens) / len(num_tokens)))"
   ]
  },
  {
   "cell_type": "markdown",
   "id": "textile-asbestos",
   "metadata": {},
   "source": [
    "### Pading 및 maxlen 적용"
   ]
  },
  {
   "cell_type": "code",
   "execution_count": 39,
   "id": "handed-immunology",
   "metadata": {},
   "outputs": [
    {
     "name": "stdout",
     "output_type": "stream",
     "text": [
      "(143620, 29)\n"
     ]
    }
   ],
   "source": [
    "#RNN은 입력데이터가 순차적으로 처리되기 때문에 뒤부분 입력이 패딩값(padding)으로 채워지면 비효율적이다.\n",
    "X_train__ = keras.preprocessing.sequence.pad_sequences(X_train__,\n",
    "                                                     value=word_to_index__[\"<PAD>\"],\n",
    "                                                     padding='pre',# 혹은'post'\n",
    "                                                     maxlen=maxlen)\n",
    "\n",
    "X_test__ = keras.preprocessing.sequence.pad_sequences(X_test__,\n",
    "                                                    value=word_to_index__[\"<PAD>\"],\n",
    "                                                    padding='pre', # 혹은 'post'\n",
    "                                                    maxlen=maxlen)\n",
    "print(X_train__.shape)"
   ]
  },
  {
   "cell_type": "code",
   "execution_count": 40,
   "id": "interested-adobe",
   "metadata": {},
   "outputs": [
    {
     "name": "stdout",
     "output_type": "stream",
     "text": [
      "(143620, 29)\n",
      "(143620,)\n",
      "(133620, 29)\n",
      "(133620,)\n"
     ]
    }
   ],
   "source": [
    "# validation set 10000건 분리\n",
    "X_val__ = X_train__[:10000]   \n",
    "y_val__ = y_train__[:10000]\n",
    "\n",
    "# validation set을 제외한 나머지 15000건\n",
    "partial_X_train__ = X_train__[10000:]  \n",
    "partial_y_train__ = y_train__[10000:]\n",
    "\n",
    "print(X_train__.shape)\n",
    "print(y_train__.shape)\n",
    "print(partial_X_train__.shape)\n",
    "print(partial_y_train__.shape)"
   ]
  },
  {
   "cell_type": "code",
   "execution_count": 41,
   "id": "robust-nature",
   "metadata": {},
   "outputs": [
    {
     "name": "stdout",
     "output_type": "stream",
     "text": [
      "Model: \"sequential_2\"\n",
      "_________________________________________________________________\n",
      "Layer (type)                 Output Shape              Param #   \n",
      "=================================================================\n",
      "embedding_2 (Embedding)      (None, None, 150)         1500000   \n",
      "_________________________________________________________________\n",
      "lstm_2 (LSTM)                (None, 150)               180600    \n",
      "_________________________________________________________________\n",
      "dense_4 (Dense)              (None, 32)                4832      \n",
      "_________________________________________________________________\n",
      "dense_5 (Dense)              (None, 1)                 33        \n",
      "=================================================================\n",
      "Total params: 1,685,465\n",
      "Trainable params: 1,685,465\n",
      "Non-trainable params: 0\n",
      "_________________________________________________________________\n"
     ]
    }
   ],
   "source": [
    "vocab_size = 10000    # 어휘 사전의 크기입니다(10,000개의 단어)\n",
    "word_vector_dim = 150  # 워드 벡터의 차원수 (변경가능한 하이퍼파라미터)\n",
    "\n",
    "# model 설계\n",
    "model__ = keras.Sequential()\n",
    "model__.add(Embedding(vocab_size, word_vector_dim, input_shape=(None,)))\n",
    "model__.add(LSTM(word_vector_dim))   # 가장 널리 쓰이는 RNN인 LSTM 레이어를 사용하였습니다. 이때 LSTM state 벡터의 차원수는 변경가능\n",
    "model__.add(Dense(32, activation='relu'))\n",
    "model__.add(Dense(1, activation='sigmoid'))  # 최종 출력은 긍정/부정을 나타내는 1dim 입니다.\n",
    "\n",
    "model__.summary()"
   ]
  },
  {
   "cell_type": "code",
   "execution_count": 42,
   "id": "hired-underwear",
   "metadata": {},
   "outputs": [
    {
     "name": "stdout",
     "output_type": "stream",
     "text": [
      "Epoch 1/10\n",
      "261/261 - 10s - loss: 0.4247 - accuracy: 0.7999 - val_loss: 0.3622 - val_accuracy: 0.8340\n",
      "Epoch 2/10\n",
      "261/261 - 8s - loss: 0.3454 - accuracy: 0.8477 - val_loss: 0.3566 - val_accuracy: 0.8380\n",
      "Epoch 3/10\n",
      "261/261 - 8s - loss: 0.3163 - accuracy: 0.8607 - val_loss: 0.3608 - val_accuracy: 0.8404\n",
      "Epoch 4/10\n",
      "261/261 - 8s - loss: 0.2886 - accuracy: 0.8731 - val_loss: 0.3721 - val_accuracy: 0.8400\n",
      "Epoch 5/10\n",
      "261/261 - 8s - loss: 0.2654 - accuracy: 0.8835 - val_loss: 0.3936 - val_accuracy: 0.8352\n",
      "Epoch 6/10\n",
      "261/261 - 8s - loss: 0.2429 - accuracy: 0.8936 - val_loss: 0.4262 - val_accuracy: 0.8281\n",
      "Epoch 7/10\n",
      "261/261 - 8s - loss: 0.2224 - accuracy: 0.9024 - val_loss: 0.4622 - val_accuracy: 0.8278\n",
      "Epoch 8/10\n",
      "261/261 - 8s - loss: 0.2042 - accuracy: 0.9119 - val_loss: 0.4858 - val_accuracy: 0.8278\n",
      "Epoch 9/10\n",
      "261/261 - 8s - loss: 0.1847 - accuracy: 0.9206 - val_loss: 0.5813 - val_accuracy: 0.8245\n",
      "Epoch 10/10\n",
      "261/261 - 8s - loss: 0.1690 - accuracy: 0.9273 - val_loss: 0.6379 - val_accuracy: 0.8189\n",
      "1513/1513 - 5s - loss: 0.6350 - accuracy: 0.8182\n",
      "[0.6350265145301819, 0.818161129951477]\n"
     ]
    }
   ],
   "source": [
    "model__.compile(optimizer='adam',\n",
    "                loss='binary_crossentropy',\n",
    "                metrics=['accuracy'])\n",
    "              \n",
    "epochs=10  # 몇 epoch를 훈련하면 좋을지 결과를 보면서 바꾸어 봅시다. \n",
    "\n",
    "history_model__ = model__.fit(partial_X_train__, partial_y_train__,\n",
    "                              epochs=epochs,\n",
    "                              batch_size=512,\n",
    "                              validation_data=(X_val__, y_val__),\n",
    "                              verbose=2)\n",
    "\n",
    "results = model__.evaluate(X_test__,  y_test__, verbose=2)\n",
    "print(results)"
   ]
  },
  {
   "cell_type": "markdown",
   "id": "extreme-proposition",
   "metadata": {},
   "source": [
    "### 모델 학습 시각화"
   ]
  },
  {
   "cell_type": "code",
   "execution_count": 63,
   "id": "excellent-latino",
   "metadata": {},
   "outputs": [
    {
     "data": {
      "image/png": "[encoded data removed]",
      "text/plain": [
       "<Figure size 432x288 with 1 Axes>"
      ]
     },
     "metadata": {
      "needs_background": "light"
     },
     "output_type": "display_data"
    }
   ],
   "source": [
    "fig, loss_ax = plt.subplots()\n",
    "\n",
    "loss_ax.plot(history_model.history['loss'], 'y', label='train loss')\n",
    "loss_ax.plot(history_model.history['val_loss'], 'r', label='val loss')\n",
    "loss_ax.set_xlabel('epoch')\n",
    "loss_ax.set_ylabel('loss')\n",
    "\n",
    "loss_ax.plot(history_model_.history['loss'], 'b', label='train loss')\n",
    "loss_ax.plot(history_model_.history['val_loss'], 'g', label='val loss')\n",
    "loss_ax.set_xlabel('epoch')\n",
    "loss_ax.set_ylabel('loss')\n",
    "\n",
    "loss_ax.plot(history_model__.history['loss'], 'b', label='train loss')\n",
    "loss_ax.plot(history_model__.history['val_loss'], 'g', label='val loss')\n",
    "loss_ax.set_xlabel('epoch')\n",
    "loss_ax.set_ylabel('loss')\n",
    "\n",
    "plt.title('SentencePiece Unigram vs BPE vs Mecab')\n",
    "plt.show()"
   ]
  },
  {
   "cell_type": "markdown",
   "id": "suspected-gates",
   "metadata": {},
   "source": [
    "모델이 중점이 아니기 때문에 대략적인 확인만 하였다. loss와 val_loss의 차이가 심한 것으로 보아 Overfitting으로 사료되며 모델을 바꿔야 성능향상의 차이를 명확히 알 수 있을듯 하다"
   ]
  },
  {
   "cell_type": "markdown",
   "id": "unique-outreach",
   "metadata": {},
   "source": [
    "## 비교"
   ]
  },
  {
   "cell_type": "markdown",
   "id": "narrative-romania",
   "metadata": {},
   "source": [
    "* SentencePiece Unigram 및 BPE 그리고 Mecab 총 3가지를 각각 비교했지만 큰 차이가 없었다.\n",
    "* SentencePiece 모델의 model_type, vocab_size 등을 변경했지만 아주 미약한 성능 개선이 있거나 별다른 차이가 없었다."
   ]
  },
  {
   "cell_type": "markdown",
   "id": "worthy-porcelain",
   "metadata": {},
   "source": [
    "# 참고\n",
    "* [Wikidocs: SentencepieceBPE와 Unigram](https://wikidocs.net/22592)"
   ]
  }
 ],
 "metadata": {
  "kernelspec": {
   "display_name": "Python 3",
   "language": "python",
   "name": "python3"
  },
  "language_info": {
   "codemirror_mode": {
    "name": "ipython",
    "version": 3
   },
   "file_extension": ".py",
   "mimetype": "text/x-python",
   "name": "python",
   "nbconvert_exporter": "python",
   "pygments_lexer": "ipython3",
   "version": "3.7.9"
  }
 },
 "nbformat": 4,
 "nbformat_minor": 5
}
